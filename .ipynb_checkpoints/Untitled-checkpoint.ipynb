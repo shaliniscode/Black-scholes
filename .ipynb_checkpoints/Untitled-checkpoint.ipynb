{
 "cells": [
  {
   "cell_type": "code",
   "execution_count": 356,
   "metadata": {},
   "outputs": [],
   "source": [
    "import pandas as pd\n",
    "import numpy as np\n",
    "import matplotlib.pyplot as plt\n",
    "import seaborn as sns\n",
    "%matplotlib inline"
   ]
  },
  {
   "cell_type": "code",
   "execution_count": 357,
   "metadata": {},
   "outputs": [],
   "source": [
    "from scipy.stats import norm "
   ]
  },
  {
   "cell_type": "code",
   "execution_count": 358,
   "metadata": {},
   "outputs": [],
   "source": [
    "def black_scholes(s, k, r, t, sigma, option_type):\n",
    "    d1 = (np.log(s/k) + (r + sigma**2)/2) / (sigma * np.sqrt(t))\n",
    "    d2 = d1 - (sigma * np.sqrt(t))\n",
    "    n_d1 = norm.cdf(-d1)\n",
    "    n_d2 = norm.cdf(-d2)\n",
    "   \n",
    "    if option_type == 'Call':\n",
    "        c = norm.cdf(d1) * s - norm.cdf(d2) * k * np.exp(-r*t)\n",
    "        return c\n",
    "    else:\n",
    "        p =  k * np.exp(-r *t)* n_d2 - s * n_d1\n",
    "        return p\n",
    "    "
   ]
  },
  {
   "cell_type": "code",
   "execution_count": 359,
   "metadata": {},
   "outputs": [],
   "source": [
    "from datetime import datetime, time\n",
    "import pandas_datareader.data as pdr\n",
    "import yfinance as yf"
   ]
  },
  {
   "cell_type": "markdown",
   "metadata": {},
   "source": [
    "##### Ticker and expiry date"
   ]
  },
  {
   "cell_type": "code",
   "execution_count": 360,
   "metadata": {},
   "outputs": [],
   "source": [
    "ticker = 'QCOM'\n",
    "expiry_date = '12-15-2023'\n"
   ]
  },
  {
   "cell_type": "code",
   "execution_count": 361,
   "metadata": {},
   "outputs": [],
   "source": [
    "today = datetime.now().date()\n",
    "one_year_ago = today.replace(year = today.year-1)"
   ]
  },
  {
   "cell_type": "code",
   "execution_count": 416,
   "metadata": {},
   "outputs": [
    {
     "name": "stdout",
     "output_type": "stream",
     "text": [
      "[*********************100%***********************]  1 of 1 completed\n"
     ]
    }
   ],
   "source": [
    "stock = yf.Ticker(ticker)\n",
    "df = yf.download(ticker,start = one_year_ago, end = today,rounding = True )\n"
   ]
  },
  {
   "cell_type": "code",
   "execution_count": 417,
   "metadata": {},
   "outputs": [
    {
     "data": {
      "text/html": [
       "<div>\n",
       "<style scoped>\n",
       "    .dataframe tbody tr th:only-of-type {\n",
       "        vertical-align: middle;\n",
       "    }\n",
       "\n",
       "    .dataframe tbody tr th {\n",
       "        vertical-align: top;\n",
       "    }\n",
       "\n",
       "    .dataframe thead th {\n",
       "        text-align: right;\n",
       "    }\n",
       "</style>\n",
       "<table border=\"1\" class=\"dataframe\">\n",
       "  <thead>\n",
       "    <tr style=\"text-align: right;\">\n",
       "      <th></th>\n",
       "      <th>Open</th>\n",
       "      <th>High</th>\n",
       "      <th>Low</th>\n",
       "      <th>Close</th>\n",
       "      <th>Adj Close</th>\n",
       "      <th>Volume</th>\n",
       "    </tr>\n",
       "    <tr>\n",
       "      <th>Date</th>\n",
       "      <th></th>\n",
       "      <th></th>\n",
       "      <th></th>\n",
       "      <th></th>\n",
       "      <th></th>\n",
       "      <th></th>\n",
       "    </tr>\n",
       "  </thead>\n",
       "  <tbody>\n",
       "    <tr>\n",
       "      <th>2022-11-14</th>\n",
       "      <td>120.74</td>\n",
       "      <td>123.21</td>\n",
       "      <td>120.26</td>\n",
       "      <td>120.80</td>\n",
       "      <td>117.65</td>\n",
       "      <td>6971000</td>\n",
       "    </tr>\n",
       "    <tr>\n",
       "      <th>2022-11-15</th>\n",
       "      <td>125.65</td>\n",
       "      <td>128.13</td>\n",
       "      <td>123.42</td>\n",
       "      <td>126.02</td>\n",
       "      <td>122.73</td>\n",
       "      <td>12470200</td>\n",
       "    </tr>\n",
       "    <tr>\n",
       "      <th>2022-11-16</th>\n",
       "      <td>123.20</td>\n",
       "      <td>123.84</td>\n",
       "      <td>119.96</td>\n",
       "      <td>120.73</td>\n",
       "      <td>117.58</td>\n",
       "      <td>9561700</td>\n",
       "    </tr>\n",
       "    <tr>\n",
       "      <th>2022-11-17</th>\n",
       "      <td>118.95</td>\n",
       "      <td>123.12</td>\n",
       "      <td>118.71</td>\n",
       "      <td>122.86</td>\n",
       "      <td>119.66</td>\n",
       "      <td>7273700</td>\n",
       "    </tr>\n",
       "    <tr>\n",
       "      <th>2022-11-18</th>\n",
       "      <td>124.04</td>\n",
       "      <td>124.49</td>\n",
       "      <td>122.13</td>\n",
       "      <td>123.85</td>\n",
       "      <td>120.62</td>\n",
       "      <td>6436600</td>\n",
       "    </tr>\n",
       "  </tbody>\n",
       "</table>\n",
       "</div>"
      ],
      "text/plain": [
       "              Open    High     Low   Close  Adj Close    Volume\n",
       "Date                                                           \n",
       "2022-11-14  120.74  123.21  120.26  120.80     117.65   6971000\n",
       "2022-11-15  125.65  128.13  123.42  126.02     122.73  12470200\n",
       "2022-11-16  123.20  123.84  119.96  120.73     117.58   9561700\n",
       "2022-11-17  118.95  123.12  118.71  122.86     119.66   7273700\n",
       "2022-11-18  124.04  124.49  122.13  123.85     120.62   6436600"
      ]
     },
     "execution_count": 417,
     "metadata": {},
     "output_type": "execute_result"
    }
   ],
   "source": [
    "df.head()"
   ]
  },
  {
   "cell_type": "code",
   "execution_count": 418,
   "metadata": {},
   "outputs": [],
   "source": [
    "df_1 = df['Adj Close']\n",
    "df_returns = df_1.to_frame()"
   ]
  },
  {
   "cell_type": "code",
   "execution_count": 419,
   "metadata": {},
   "outputs": [],
   "source": [
    "#calculating returns\n",
    "df_returns['returns'] = df['Adj Close'].pct_change()"
   ]
  },
  {
   "cell_type": "code",
   "execution_count": 420,
   "metadata": {},
   "outputs": [
    {
     "data": {
      "text/html": [
       "<div>\n",
       "<style scoped>\n",
       "    .dataframe tbody tr th:only-of-type {\n",
       "        vertical-align: middle;\n",
       "    }\n",
       "\n",
       "    .dataframe tbody tr th {\n",
       "        vertical-align: top;\n",
       "    }\n",
       "\n",
       "    .dataframe thead th {\n",
       "        text-align: right;\n",
       "    }\n",
       "</style>\n",
       "<table border=\"1\" class=\"dataframe\">\n",
       "  <thead>\n",
       "    <tr style=\"text-align: right;\">\n",
       "      <th></th>\n",
       "      <th>Adj Close</th>\n",
       "      <th>returns</th>\n",
       "      <th>cum_ret</th>\n",
       "    </tr>\n",
       "    <tr>\n",
       "      <th>Date</th>\n",
       "      <th></th>\n",
       "      <th></th>\n",
       "      <th></th>\n",
       "    </tr>\n",
       "  </thead>\n",
       "  <tbody>\n",
       "    <tr>\n",
       "      <th>2022-11-14</th>\n",
       "      <td>117.65</td>\n",
       "      <td>NaN</td>\n",
       "      <td>NaN</td>\n",
       "    </tr>\n",
       "    <tr>\n",
       "      <th>2022-11-15</th>\n",
       "      <td>122.73</td>\n",
       "      <td>0.043179</td>\n",
       "      <td>1.043179</td>\n",
       "    </tr>\n",
       "    <tr>\n",
       "      <th>2022-11-16</th>\n",
       "      <td>117.58</td>\n",
       "      <td>-0.041962</td>\n",
       "      <td>0.999405</td>\n",
       "    </tr>\n",
       "    <tr>\n",
       "      <th>2022-11-17</th>\n",
       "      <td>119.66</td>\n",
       "      <td>0.017690</td>\n",
       "      <td>1.017085</td>\n",
       "    </tr>\n",
       "    <tr>\n",
       "      <th>2022-11-18</th>\n",
       "      <td>120.62</td>\n",
       "      <td>0.008023</td>\n",
       "      <td>1.025244</td>\n",
       "    </tr>\n",
       "  </tbody>\n",
       "</table>\n",
       "</div>"
      ],
      "text/plain": [
       "            Adj Close   returns   cum_ret\n",
       "Date                                     \n",
       "2022-11-14     117.65       NaN       NaN\n",
       "2022-11-15     122.73  0.043179  1.043179\n",
       "2022-11-16     117.58 -0.041962  0.999405\n",
       "2022-11-17     119.66  0.017690  1.017085\n",
       "2022-11-18     120.62  0.008023  1.025244"
      ]
     },
     "execution_count": 420,
     "metadata": {},
     "output_type": "execute_result"
    }
   ],
   "source": [
    "df_returns['cum_ret'] = (df_returns['returns'] +1).cumprod()\n",
    "df_returns.head()"
   ]
  },
  {
   "cell_type": "code",
   "execution_count": 421,
   "metadata": {},
   "outputs": [
    {
     "data": {
      "text/html": [
       "<div>\n",
       "<style scoped>\n",
       "    .dataframe tbody tr th:only-of-type {\n",
       "        vertical-align: middle;\n",
       "    }\n",
       "\n",
       "    .dataframe tbody tr th {\n",
       "        vertical-align: top;\n",
       "    }\n",
       "\n",
       "    .dataframe thead th {\n",
       "        text-align: right;\n",
       "    }\n",
       "</style>\n",
       "<table border=\"1\" class=\"dataframe\">\n",
       "  <thead>\n",
       "    <tr style=\"text-align: right;\">\n",
       "      <th></th>\n",
       "      <th>Adj Close</th>\n",
       "      <th>returns</th>\n",
       "      <th>cum_ret</th>\n",
       "    </tr>\n",
       "    <tr>\n",
       "      <th>Date</th>\n",
       "      <th></th>\n",
       "      <th></th>\n",
       "      <th></th>\n",
       "    </tr>\n",
       "  </thead>\n",
       "  <tbody>\n",
       "    <tr>\n",
       "      <th>2022-11-15</th>\n",
       "      <td>122.73</td>\n",
       "      <td>0.043179</td>\n",
       "      <td>1.043179</td>\n",
       "    </tr>\n",
       "    <tr>\n",
       "      <th>2022-11-16</th>\n",
       "      <td>117.58</td>\n",
       "      <td>-0.041962</td>\n",
       "      <td>0.999405</td>\n",
       "    </tr>\n",
       "    <tr>\n",
       "      <th>2022-11-17</th>\n",
       "      <td>119.66</td>\n",
       "      <td>0.017690</td>\n",
       "      <td>1.017085</td>\n",
       "    </tr>\n",
       "    <tr>\n",
       "      <th>2022-11-18</th>\n",
       "      <td>120.62</td>\n",
       "      <td>0.008023</td>\n",
       "      <td>1.025244</td>\n",
       "    </tr>\n",
       "    <tr>\n",
       "      <th>2022-11-21</th>\n",
       "      <td>117.07</td>\n",
       "      <td>-0.029431</td>\n",
       "      <td>0.995070</td>\n",
       "    </tr>\n",
       "    <tr>\n",
       "      <th>...</th>\n",
       "      <td>...</td>\n",
       "      <td>...</td>\n",
       "      <td>...</td>\n",
       "    </tr>\n",
       "    <tr>\n",
       "      <th>2023-11-08</th>\n",
       "      <td>120.06</td>\n",
       "      <td>-0.005467</td>\n",
       "      <td>1.020484</td>\n",
       "    </tr>\n",
       "    <tr>\n",
       "      <th>2023-11-09</th>\n",
       "      <td>120.10</td>\n",
       "      <td>0.000333</td>\n",
       "      <td>1.020824</td>\n",
       "    </tr>\n",
       "    <tr>\n",
       "      <th>2023-11-10</th>\n",
       "      <td>124.21</td>\n",
       "      <td>0.034221</td>\n",
       "      <td>1.055759</td>\n",
       "    </tr>\n",
       "    <tr>\n",
       "      <th>2023-11-13</th>\n",
       "      <td>123.85</td>\n",
       "      <td>-0.002898</td>\n",
       "      <td>1.052699</td>\n",
       "    </tr>\n",
       "    <tr>\n",
       "      <th>2023-11-14</th>\n",
       "      <td>127.36</td>\n",
       "      <td>0.028341</td>\n",
       "      <td>1.082533</td>\n",
       "    </tr>\n",
       "  </tbody>\n",
       "</table>\n",
       "<p>251 rows × 3 columns</p>\n",
       "</div>"
      ],
      "text/plain": [
       "            Adj Close   returns   cum_ret\n",
       "Date                                     \n",
       "2022-11-15     122.73  0.043179  1.043179\n",
       "2022-11-16     117.58 -0.041962  0.999405\n",
       "2022-11-17     119.66  0.017690  1.017085\n",
       "2022-11-18     120.62  0.008023  1.025244\n",
       "2022-11-21     117.07 -0.029431  0.995070\n",
       "...               ...       ...       ...\n",
       "2023-11-08     120.06 -0.005467  1.020484\n",
       "2023-11-09     120.10  0.000333  1.020824\n",
       "2023-11-10     124.21  0.034221  1.055759\n",
       "2023-11-13     123.85 -0.002898  1.052699\n",
       "2023-11-14     127.36  0.028341  1.082533\n",
       "\n",
       "[251 rows x 3 columns]"
      ]
     },
     "execution_count": 421,
     "metadata": {},
     "output_type": "execute_result"
    }
   ],
   "source": [
    "df_returns.dropna()"
   ]
  },
  {
   "cell_type": "code",
   "execution_count": 422,
   "metadata": {},
   "outputs": [
    {
     "data": {
      "text/plain": [
       "Date\n",
       "2022-11-15    0.042304\n",
       "2022-11-16   -0.042884\n",
       "2022-11-17    0.017489\n",
       "2022-11-18    0.008026\n",
       "2022-11-21   -0.029914\n",
       "                ...   \n",
       "2023-11-08   -0.005482\n",
       "2023-11-09    0.000333\n",
       "2023-11-10    0.033649\n",
       "2023-11-13   -0.002903\n",
       "2023-11-14    0.027947\n",
       "Name: Close, Length: 251, dtype: float64"
      ]
     },
     "execution_count": 422,
     "metadata": {},
     "output_type": "execute_result"
    }
   ],
   "source": [
    "log_returns = np.log(df['Close']/df['Close'].shift(1)).dropna()\n",
    "log_returns"
   ]
  },
  {
   "cell_type": "code",
   "execution_count": 423,
   "metadata": {},
   "outputs": [],
   "source": [
    "df_returns['log_returns'] = log_returns"
   ]
  },
  {
   "cell_type": "code",
   "execution_count": 424,
   "metadata": {},
   "outputs": [
    {
     "data": {
      "text/html": [
       "<div>\n",
       "<style scoped>\n",
       "    .dataframe tbody tr th:only-of-type {\n",
       "        vertical-align: middle;\n",
       "    }\n",
       "\n",
       "    .dataframe tbody tr th {\n",
       "        vertical-align: top;\n",
       "    }\n",
       "\n",
       "    .dataframe thead th {\n",
       "        text-align: right;\n",
       "    }\n",
       "</style>\n",
       "<table border=\"1\" class=\"dataframe\">\n",
       "  <thead>\n",
       "    <tr style=\"text-align: right;\">\n",
       "      <th></th>\n",
       "      <th>Adj Close</th>\n",
       "      <th>returns</th>\n",
       "      <th>cum_ret</th>\n",
       "      <th>log_returns</th>\n",
       "    </tr>\n",
       "    <tr>\n",
       "      <th>Date</th>\n",
       "      <th></th>\n",
       "      <th></th>\n",
       "      <th></th>\n",
       "      <th></th>\n",
       "    </tr>\n",
       "  </thead>\n",
       "  <tbody>\n",
       "    <tr>\n",
       "      <th>2023-11-08</th>\n",
       "      <td>120.06</td>\n",
       "      <td>-0.005467</td>\n",
       "      <td>1.020484</td>\n",
       "      <td>-0.005482</td>\n",
       "    </tr>\n",
       "    <tr>\n",
       "      <th>2023-11-09</th>\n",
       "      <td>120.10</td>\n",
       "      <td>0.000333</td>\n",
       "      <td>1.020824</td>\n",
       "      <td>0.000333</td>\n",
       "    </tr>\n",
       "    <tr>\n",
       "      <th>2023-11-10</th>\n",
       "      <td>124.21</td>\n",
       "      <td>0.034221</td>\n",
       "      <td>1.055759</td>\n",
       "      <td>0.033649</td>\n",
       "    </tr>\n",
       "    <tr>\n",
       "      <th>2023-11-13</th>\n",
       "      <td>123.85</td>\n",
       "      <td>-0.002898</td>\n",
       "      <td>1.052699</td>\n",
       "      <td>-0.002903</td>\n",
       "    </tr>\n",
       "    <tr>\n",
       "      <th>2023-11-14</th>\n",
       "      <td>127.36</td>\n",
       "      <td>0.028341</td>\n",
       "      <td>1.082533</td>\n",
       "      <td>0.027947</td>\n",
       "    </tr>\n",
       "  </tbody>\n",
       "</table>\n",
       "</div>"
      ],
      "text/plain": [
       "            Adj Close   returns   cum_ret  log_returns\n",
       "Date                                                  \n",
       "2023-11-08     120.06 -0.005467  1.020484    -0.005482\n",
       "2023-11-09     120.10  0.000333  1.020824     0.000333\n",
       "2023-11-10     124.21  0.034221  1.055759     0.033649\n",
       "2023-11-13     123.85 -0.002898  1.052699    -0.002903\n",
       "2023-11-14     127.36  0.028341  1.082533     0.027947"
      ]
     },
     "execution_count": 424,
     "metadata": {},
     "output_type": "execute_result"
    }
   ],
   "source": [
    "df_returns.tail()"
   ]
  },
  {
   "cell_type": "markdown",
   "metadata": {},
   "source": [
    "##### Sigma "
   ]
  },
  {
   "cell_type": "code",
   "execution_count": 425,
   "metadata": {},
   "outputs": [
    {
     "data": {
      "text/plain": [
       "0.3404990843678813"
      ]
     },
     "execution_count": 425,
     "metadata": {},
     "output_type": "execute_result"
    }
   ],
   "source": [
    "sigma = np.sqrt(252)*df_returns['log_returns'].std()\n",
    "sigma"
   ]
  },
  {
   "cell_type": "code",
   "execution_count": 426,
   "metadata": {},
   "outputs": [
    {
     "data": {
      "text/plain": [
       "0.34176413902312436"
      ]
     },
     "execution_count": 426,
     "metadata": {},
     "output_type": "execute_result"
    }
   ],
   "source": [
    "sigma_ret = np.sqrt(252)*df_returns['returns'].std()\n",
    "sigma_ret"
   ]
  },
  {
   "cell_type": "markdown",
   "metadata": {},
   "source": [
    "#### Risk-free rate"
   ]
  },
  {
   "cell_type": "code",
   "execution_count": 427,
   "metadata": {},
   "outputs": [
    {
     "name": "stdout",
     "output_type": "stream",
     "text": [
      "[*********************100%***********************]  1 of 1 completed\n"
     ]
    },
    {
     "data": {
      "text/plain": [
       "0.0525"
      ]
     },
     "execution_count": 427,
     "metadata": {},
     "output_type": "execute_result"
    }
   ],
   "source": [
    "#risk-free rate, as the 10-year U.S. treasury yield which could get from ^TNX\n",
    "r = yf.download('^IRX', rounding=True)['Adj Close'].tail(1)/100\n",
    "r = r.values[0]\n",
    "r"
   ]
  },
  {
   "cell_type": "code",
   "execution_count": null,
   "metadata": {},
   "outputs": [],
   "source": []
  },
  {
   "cell_type": "code",
   "execution_count": 428,
   "metadata": {},
   "outputs": [],
   "source": [
    "# r_10tres = yf.download('^TNX', rounding = True)['Adj Close'].tail(1)/100\n",
    "# r_10tres = r_10tres.values[0]\n",
    "# r_10tres "
   ]
  },
  {
   "cell_type": "markdown",
   "metadata": {},
   "source": [
    "#### Current stock price"
   ]
  },
  {
   "cell_type": "code",
   "execution_count": 429,
   "metadata": {},
   "outputs": [
    {
     "data": {
      "text/plain": [
       "127.36"
      ]
     },
     "execution_count": 429,
     "metadata": {},
     "output_type": "execute_result"
    }
   ],
   "source": [
    "#current stock price\n",
    "s = df_returns['Adj Close'].iloc[-1]\n",
    "s"
   ]
  },
  {
   "cell_type": "markdown",
   "metadata": {},
   "source": [
    "#### Time"
   ]
  },
  {
   "cell_type": "code",
   "execution_count": 430,
   "metadata": {},
   "outputs": [
    {
     "data": {
      "text/plain": [
       "0.07945205479452055"
      ]
     },
     "execution_count": 430,
     "metadata": {},
     "output_type": "execute_result"
    }
   ],
   "source": [
    "# time remaining untill expiration\n",
    "t = (datetime.strptime(expiry_date, \"%m-%d-%Y\") - datetime.utcnow()).days / 365\n",
    "t"
   ]
  },
  {
   "cell_type": "markdown",
   "metadata": {},
   "source": [
    "#### Strike price"
   ]
  },
  {
   "cell_type": "code",
   "execution_count": 431,
   "metadata": {},
   "outputs": [],
   "source": [
    "strike_price = 135\n"
   ]
  },
  {
   "cell_type": "markdown",
   "metadata": {},
   "source": [
    "#### Calculating option value"
   ]
  },
  {
   "cell_type": "code",
   "execution_count": 433,
   "metadata": {},
   "outputs": [
    {
     "name": "stdout",
     "output_type": "stream",
     "text": [
      "0.7316320424014862\n"
     ]
    }
   ],
   "source": [
    "print(black_scholes(s, strike_price, r, t, sigma,'Call'))"
   ]
  },
  {
   "cell_type": "code",
   "execution_count": null,
   "metadata": {},
   "outputs": [],
   "source": []
  }
 ],
 "metadata": {
  "kernelspec": {
   "display_name": "Python 3",
   "language": "python",
   "name": "python3"
  },
  "language_info": {
   "codemirror_mode": {
    "name": "ipython",
    "version": 3
   },
   "file_extension": ".py",
   "mimetype": "text/x-python",
   "name": "python",
   "nbconvert_exporter": "python",
   "pygments_lexer": "ipython3",
   "version": "3.8.5"
  }
 },
 "nbformat": 4,
 "nbformat_minor": 4
}
