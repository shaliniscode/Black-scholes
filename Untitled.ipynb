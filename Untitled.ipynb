{
 "cells": [
  {
   "cell_type": "code",
   "execution_count": 1,
   "metadata": {},
   "outputs": [],
   "source": [
    "import pandas as pd\n",
    "import numpy as np\n",
    "import matplotlib.pyplot as plt\n",
    "import seaborn as sns\n",
    "%matplotlib inline"
   ]
  },
  {
   "cell_type": "code",
   "execution_count": 2,
   "metadata": {},
   "outputs": [],
   "source": [
    "from scipy.stats import norm "
   ]
  },
  {
   "cell_type": "code",
   "execution_count": 254,
   "metadata": {},
   "outputs": [],
   "source": [
    "def black_scholes(s, k, r, t, sigma, option_type):\n",
    "    d1 = (np.log(s/k) + (r + sigma**2)/2) / (sigma * np.sqrt(t))\n",
    "    d2 = d1 - (sigma * np.sqrt(t))\n",
    "    n_d1 = norm.cdf(-d1)\n",
    "    n_d2 = norm.cdf(-d2)\n",
    "   \n",
    "    if option_type == 'Call':\n",
    "        c = norm.cdf(d1) * s - norm.cdf(d2) * k * np.exp(-r*t)\n",
    "        return c\n",
    "    else:\n",
    "        p =  k * np.exp(-r *t)* n_d2 - s * n_d1\n",
    "        return p\n",
    "    "
   ]
  },
  {
   "cell_type": "code",
   "execution_count": 255,
   "metadata": {},
   "outputs": [],
   "source": [
    "from datetime import datetime, time\n",
    "import pandas_datareader.data as pdr\n",
    "import yfinance as yf"
   ]
  },
  {
   "cell_type": "markdown",
   "metadata": {},
   "source": [
    "##### Ticker and expiry date"
   ]
  },
  {
   "cell_type": "code",
   "execution_count": 256,
   "metadata": {},
   "outputs": [],
   "source": [
    "ticker = 'QCOM'\n",
    "expiry_date = '12-15-2023'\n"
   ]
  },
  {
   "cell_type": "code",
   "execution_count": 257,
   "metadata": {},
   "outputs": [],
   "source": [
    "today = datetime.now().date()\n",
    "one_year_ago = today.replace(year = today.year-1)"
   ]
  },
  {
   "cell_type": "code",
   "execution_count": 318,
   "metadata": {},
   "outputs": [
    {
     "name": "stdout",
     "output_type": "stream",
     "text": [
      "[*********************100%***********************]  1 of 1 completed\n"
     ]
    }
   ],
   "source": [
    "stock = yf.Ticker(ticker)\n",
    "df = yf.download(ticker,start = one_year_ago, end = today,rounding = True )\n"
   ]
  },
  {
   "cell_type": "code",
   "execution_count": 319,
   "metadata": {},
   "outputs": [
    {
     "data": {
      "text/html": [
       "<div>\n",
       "<style scoped>\n",
       "    .dataframe tbody tr th:only-of-type {\n",
       "        vertical-align: middle;\n",
       "    }\n",
       "\n",
       "    .dataframe tbody tr th {\n",
       "        vertical-align: top;\n",
       "    }\n",
       "\n",
       "    .dataframe thead th {\n",
       "        text-align: right;\n",
       "    }\n",
       "</style>\n",
       "<table border=\"1\" class=\"dataframe\">\n",
       "  <thead>\n",
       "    <tr style=\"text-align: right;\">\n",
       "      <th></th>\n",
       "      <th>Open</th>\n",
       "      <th>High</th>\n",
       "      <th>Low</th>\n",
       "      <th>Close</th>\n",
       "      <th>Adj Close</th>\n",
       "      <th>Volume</th>\n",
       "    </tr>\n",
       "    <tr>\n",
       "      <th>Date</th>\n",
       "      <th></th>\n",
       "      <th></th>\n",
       "      <th></th>\n",
       "      <th></th>\n",
       "      <th></th>\n",
       "      <th></th>\n",
       "    </tr>\n",
       "  </thead>\n",
       "  <tbody>\n",
       "    <tr>\n",
       "      <th>2022-11-14</th>\n",
       "      <td>120.74</td>\n",
       "      <td>123.21</td>\n",
       "      <td>120.26</td>\n",
       "      <td>120.80</td>\n",
       "      <td>117.65</td>\n",
       "      <td>6971000</td>\n",
       "    </tr>\n",
       "    <tr>\n",
       "      <th>2022-11-15</th>\n",
       "      <td>125.65</td>\n",
       "      <td>128.13</td>\n",
       "      <td>123.42</td>\n",
       "      <td>126.02</td>\n",
       "      <td>122.73</td>\n",
       "      <td>12470200</td>\n",
       "    </tr>\n",
       "    <tr>\n",
       "      <th>2022-11-16</th>\n",
       "      <td>123.20</td>\n",
       "      <td>123.84</td>\n",
       "      <td>119.96</td>\n",
       "      <td>120.73</td>\n",
       "      <td>117.58</td>\n",
       "      <td>9561700</td>\n",
       "    </tr>\n",
       "    <tr>\n",
       "      <th>2022-11-17</th>\n",
       "      <td>118.95</td>\n",
       "      <td>123.12</td>\n",
       "      <td>118.71</td>\n",
       "      <td>122.86</td>\n",
       "      <td>119.66</td>\n",
       "      <td>7273700</td>\n",
       "    </tr>\n",
       "    <tr>\n",
       "      <th>2022-11-18</th>\n",
       "      <td>124.04</td>\n",
       "      <td>124.49</td>\n",
       "      <td>122.13</td>\n",
       "      <td>123.85</td>\n",
       "      <td>120.62</td>\n",
       "      <td>6436600</td>\n",
       "    </tr>\n",
       "  </tbody>\n",
       "</table>\n",
       "</div>"
      ],
      "text/plain": [
       "              Open    High     Low   Close  Adj Close    Volume\n",
       "Date                                                           \n",
       "2022-11-14  120.74  123.21  120.26  120.80     117.65   6971000\n",
       "2022-11-15  125.65  128.13  123.42  126.02     122.73  12470200\n",
       "2022-11-16  123.20  123.84  119.96  120.73     117.58   9561700\n",
       "2022-11-17  118.95  123.12  118.71  122.86     119.66   7273700\n",
       "2022-11-18  124.04  124.49  122.13  123.85     120.62   6436600"
      ]
     },
     "execution_count": 319,
     "metadata": {},
     "output_type": "execute_result"
    }
   ],
   "source": [
    "df.head()"
   ]
  },
  {
   "cell_type": "code",
   "execution_count": 298,
   "metadata": {},
   "outputs": [],
   "source": [
    "df_1 = df['Adj Close']\n",
    "df_returns = df_1.to_frame()"
   ]
  },
  {
   "cell_type": "code",
   "execution_count": 299,
   "metadata": {},
   "outputs": [],
   "source": [
    "#calculating returns\n",
    "df_returns['returns'] = df['Adj Close'].pct_change()"
   ]
  },
  {
   "cell_type": "code",
   "execution_count": 300,
   "metadata": {},
   "outputs": [
    {
     "data": {
      "text/html": [
       "<div>\n",
       "<style scoped>\n",
       "    .dataframe tbody tr th:only-of-type {\n",
       "        vertical-align: middle;\n",
       "    }\n",
       "\n",
       "    .dataframe tbody tr th {\n",
       "        vertical-align: top;\n",
       "    }\n",
       "\n",
       "    .dataframe thead th {\n",
       "        text-align: right;\n",
       "    }\n",
       "</style>\n",
       "<table border=\"1\" class=\"dataframe\">\n",
       "  <thead>\n",
       "    <tr style=\"text-align: right;\">\n",
       "      <th></th>\n",
       "      <th>Adj Close</th>\n",
       "      <th>returns</th>\n",
       "      <th>cum_ret</th>\n",
       "    </tr>\n",
       "  </thead>\n",
       "  <tbody>\n",
       "    <tr>\n",
       "      <th>2022-11-14 10:30:00-05:00</th>\n",
       "      <td>122.06</td>\n",
       "      <td>NaN</td>\n",
       "      <td>NaN</td>\n",
       "    </tr>\n",
       "    <tr>\n",
       "      <th>2022-11-14 11:30:00-05:00</th>\n",
       "      <td>122.21</td>\n",
       "      <td>0.001229</td>\n",
       "      <td>1.001229</td>\n",
       "    </tr>\n",
       "    <tr>\n",
       "      <th>2022-11-14 12:30:00-05:00</th>\n",
       "      <td>122.75</td>\n",
       "      <td>0.004419</td>\n",
       "      <td>1.005653</td>\n",
       "    </tr>\n",
       "    <tr>\n",
       "      <th>2022-11-14 13:30:00-05:00</th>\n",
       "      <td>122.81</td>\n",
       "      <td>0.000489</td>\n",
       "      <td>1.006145</td>\n",
       "    </tr>\n",
       "    <tr>\n",
       "      <th>2022-11-14 14:30:00-05:00</th>\n",
       "      <td>121.91</td>\n",
       "      <td>-0.007328</td>\n",
       "      <td>0.998771</td>\n",
       "    </tr>\n",
       "  </tbody>\n",
       "</table>\n",
       "</div>"
      ],
      "text/plain": [
       "                           Adj Close   returns   cum_ret\n",
       "2022-11-14 10:30:00-05:00     122.06       NaN       NaN\n",
       "2022-11-14 11:30:00-05:00     122.21  0.001229  1.001229\n",
       "2022-11-14 12:30:00-05:00     122.75  0.004419  1.005653\n",
       "2022-11-14 13:30:00-05:00     122.81  0.000489  1.006145\n",
       "2022-11-14 14:30:00-05:00     121.91 -0.007328  0.998771"
      ]
     },
     "execution_count": 300,
     "metadata": {},
     "output_type": "execute_result"
    }
   ],
   "source": [
    "df_returns['cum_ret'] = (df_returns['returns'] +1).cumprod()\n",
    "df_returns.head()"
   ]
  },
  {
   "cell_type": "code",
   "execution_count": 301,
   "metadata": {},
   "outputs": [
    {
     "data": {
      "text/html": [
       "<div>\n",
       "<style scoped>\n",
       "    .dataframe tbody tr th:only-of-type {\n",
       "        vertical-align: middle;\n",
       "    }\n",
       "\n",
       "    .dataframe tbody tr th {\n",
       "        vertical-align: top;\n",
       "    }\n",
       "\n",
       "    .dataframe thead th {\n",
       "        text-align: right;\n",
       "    }\n",
       "</style>\n",
       "<table border=\"1\" class=\"dataframe\">\n",
       "  <thead>\n",
       "    <tr style=\"text-align: right;\">\n",
       "      <th></th>\n",
       "      <th>Adj Close</th>\n",
       "      <th>returns</th>\n",
       "      <th>cum_ret</th>\n",
       "    </tr>\n",
       "  </thead>\n",
       "  <tbody>\n",
       "    <tr>\n",
       "      <th>2022-11-14 11:30:00-05:00</th>\n",
       "      <td>122.21</td>\n",
       "      <td>0.001229</td>\n",
       "      <td>1.001229</td>\n",
       "    </tr>\n",
       "    <tr>\n",
       "      <th>2022-11-14 12:30:00-05:00</th>\n",
       "      <td>122.75</td>\n",
       "      <td>0.004419</td>\n",
       "      <td>1.005653</td>\n",
       "    </tr>\n",
       "    <tr>\n",
       "      <th>2022-11-14 13:30:00-05:00</th>\n",
       "      <td>122.81</td>\n",
       "      <td>0.000489</td>\n",
       "      <td>1.006145</td>\n",
       "    </tr>\n",
       "    <tr>\n",
       "      <th>2022-11-14 14:30:00-05:00</th>\n",
       "      <td>121.91</td>\n",
       "      <td>-0.007328</td>\n",
       "      <td>0.998771</td>\n",
       "    </tr>\n",
       "    <tr>\n",
       "      <th>2022-11-14 15:30:00-05:00</th>\n",
       "      <td>120.78</td>\n",
       "      <td>-0.009269</td>\n",
       "      <td>0.989513</td>\n",
       "    </tr>\n",
       "    <tr>\n",
       "      <th>...</th>\n",
       "      <td>...</td>\n",
       "      <td>...</td>\n",
       "      <td>...</td>\n",
       "    </tr>\n",
       "    <tr>\n",
       "      <th>2023-11-13 14:30:00-05:00</th>\n",
       "      <td>124.21</td>\n",
       "      <td>-0.001688</td>\n",
       "      <td>1.017614</td>\n",
       "    </tr>\n",
       "    <tr>\n",
       "      <th>2023-11-13 15:30:00-05:00</th>\n",
       "      <td>123.85</td>\n",
       "      <td>-0.002898</td>\n",
       "      <td>1.014665</td>\n",
       "    </tr>\n",
       "    <tr>\n",
       "      <th>2023-11-14 09:30:00-05:00</th>\n",
       "      <td>127.15</td>\n",
       "      <td>0.026645</td>\n",
       "      <td>1.041701</td>\n",
       "    </tr>\n",
       "    <tr>\n",
       "      <th>2023-11-14 10:30:00-05:00</th>\n",
       "      <td>127.66</td>\n",
       "      <td>0.004011</td>\n",
       "      <td>1.045879</td>\n",
       "    </tr>\n",
       "    <tr>\n",
       "      <th>2023-11-14 16:00:00-05:00</th>\n",
       "      <td>127.36</td>\n",
       "      <td>-0.002350</td>\n",
       "      <td>1.043421</td>\n",
       "    </tr>\n",
       "  </tbody>\n",
       "</table>\n",
       "<p>1752 rows × 3 columns</p>\n",
       "</div>"
      ],
      "text/plain": [
       "                           Adj Close   returns   cum_ret\n",
       "2022-11-14 11:30:00-05:00     122.21  0.001229  1.001229\n",
       "2022-11-14 12:30:00-05:00     122.75  0.004419  1.005653\n",
       "2022-11-14 13:30:00-05:00     122.81  0.000489  1.006145\n",
       "2022-11-14 14:30:00-05:00     121.91 -0.007328  0.998771\n",
       "2022-11-14 15:30:00-05:00     120.78 -0.009269  0.989513\n",
       "...                              ...       ...       ...\n",
       "2023-11-13 14:30:00-05:00     124.21 -0.001688  1.017614\n",
       "2023-11-13 15:30:00-05:00     123.85 -0.002898  1.014665\n",
       "2023-11-14 09:30:00-05:00     127.15  0.026645  1.041701\n",
       "2023-11-14 10:30:00-05:00     127.66  0.004011  1.045879\n",
       "2023-11-14 16:00:00-05:00     127.36 -0.002350  1.043421\n",
       "\n",
       "[1752 rows x 3 columns]"
      ]
     },
     "execution_count": 301,
     "metadata": {},
     "output_type": "execute_result"
    }
   ],
   "source": [
    "df_returns.dropna()"
   ]
  },
  {
   "cell_type": "code",
   "execution_count": 302,
   "metadata": {},
   "outputs": [
    {
     "data": {
      "text/plain": [
       "2022-11-14 11:30:00-05:00    0.001228\n",
       "2022-11-14 12:30:00-05:00    0.004409\n",
       "2022-11-14 13:30:00-05:00    0.000489\n",
       "2022-11-14 14:30:00-05:00   -0.007355\n",
       "2022-11-14 15:30:00-05:00   -0.009312\n",
       "                               ...   \n",
       "2023-11-13 14:30:00-05:00   -0.001689\n",
       "2023-11-13 15:30:00-05:00   -0.002903\n",
       "2023-11-14 09:30:00-05:00    0.026296\n",
       "2023-11-14 10:30:00-05:00    0.004003\n",
       "2023-11-14 16:00:00-05:00   -0.002353\n",
       "Name: Close, Length: 1752, dtype: float64"
      ]
     },
     "execution_count": 302,
     "metadata": {},
     "output_type": "execute_result"
    }
   ],
   "source": [
    "log_returns = np.log(df['Close']/df['Close'].shift(1)).dropna()\n",
    "log_returns"
   ]
  },
  {
   "cell_type": "code",
   "execution_count": 303,
   "metadata": {},
   "outputs": [],
   "source": [
    "df_returns['log_returns'] = log_returns"
   ]
  },
  {
   "cell_type": "code",
   "execution_count": 304,
   "metadata": {},
   "outputs": [
    {
     "data": {
      "text/html": [
       "<div>\n",
       "<style scoped>\n",
       "    .dataframe tbody tr th:only-of-type {\n",
       "        vertical-align: middle;\n",
       "    }\n",
       "\n",
       "    .dataframe tbody tr th {\n",
       "        vertical-align: top;\n",
       "    }\n",
       "\n",
       "    .dataframe thead th {\n",
       "        text-align: right;\n",
       "    }\n",
       "</style>\n",
       "<table border=\"1\" class=\"dataframe\">\n",
       "  <thead>\n",
       "    <tr style=\"text-align: right;\">\n",
       "      <th></th>\n",
       "      <th>Adj Close</th>\n",
       "      <th>returns</th>\n",
       "      <th>cum_ret</th>\n",
       "      <th>log_returns</th>\n",
       "    </tr>\n",
       "  </thead>\n",
       "  <tbody>\n",
       "    <tr>\n",
       "      <th>2023-11-13 14:30:00-05:00</th>\n",
       "      <td>124.21</td>\n",
       "      <td>-0.001688</td>\n",
       "      <td>1.017614</td>\n",
       "      <td>-0.001689</td>\n",
       "    </tr>\n",
       "    <tr>\n",
       "      <th>2023-11-13 15:30:00-05:00</th>\n",
       "      <td>123.85</td>\n",
       "      <td>-0.002898</td>\n",
       "      <td>1.014665</td>\n",
       "      <td>-0.002903</td>\n",
       "    </tr>\n",
       "    <tr>\n",
       "      <th>2023-11-14 09:30:00-05:00</th>\n",
       "      <td>127.15</td>\n",
       "      <td>0.026645</td>\n",
       "      <td>1.041701</td>\n",
       "      <td>0.026296</td>\n",
       "    </tr>\n",
       "    <tr>\n",
       "      <th>2023-11-14 10:30:00-05:00</th>\n",
       "      <td>127.66</td>\n",
       "      <td>0.004011</td>\n",
       "      <td>1.045879</td>\n",
       "      <td>0.004003</td>\n",
       "    </tr>\n",
       "    <tr>\n",
       "      <th>2023-11-14 16:00:00-05:00</th>\n",
       "      <td>127.36</td>\n",
       "      <td>-0.002350</td>\n",
       "      <td>1.043421</td>\n",
       "      <td>-0.002353</td>\n",
       "    </tr>\n",
       "  </tbody>\n",
       "</table>\n",
       "</div>"
      ],
      "text/plain": [
       "                           Adj Close   returns   cum_ret  log_returns\n",
       "2023-11-13 14:30:00-05:00     124.21 -0.001688  1.017614    -0.001689\n",
       "2023-11-13 15:30:00-05:00     123.85 -0.002898  1.014665    -0.002903\n",
       "2023-11-14 09:30:00-05:00     127.15  0.026645  1.041701     0.026296\n",
       "2023-11-14 10:30:00-05:00     127.66  0.004011  1.045879     0.004003\n",
       "2023-11-14 16:00:00-05:00     127.36 -0.002350  1.043421    -0.002353"
      ]
     },
     "execution_count": 304,
     "metadata": {},
     "output_type": "execute_result"
    }
   ],
   "source": [
    "df_returns.tail()"
   ]
  },
  {
   "cell_type": "markdown",
   "metadata": {},
   "source": [
    "##### Sigma "
   ]
  },
  {
   "cell_type": "code",
   "execution_count": 305,
   "metadata": {},
   "outputs": [
    {
     "data": {
      "text/plain": [
       "0.12864659938633502"
      ]
     },
     "execution_count": 305,
     "metadata": {},
     "output_type": "execute_result"
    }
   ],
   "source": [
    "sigma = np.sqrt(252)*df_returns['log_returns'].std()\n",
    "sigma"
   ]
  },
  {
   "cell_type": "code",
   "execution_count": 306,
   "metadata": {},
   "outputs": [
    {
     "data": {
      "text/plain": [
       "0.12765852618649595"
      ]
     },
     "execution_count": 306,
     "metadata": {},
     "output_type": "execute_result"
    }
   ],
   "source": [
    "sigma_ret = np.sqrt(252)*df_returns['returns'].std()\n",
    "sigma_ret"
   ]
  },
  {
   "cell_type": "markdown",
   "metadata": {},
   "source": [
    "#### Risk-free rate"
   ]
  },
  {
   "cell_type": "code",
   "execution_count": 307,
   "metadata": {},
   "outputs": [
    {
     "name": "stdout",
     "output_type": "stream",
     "text": [
      "[*********************100%***********************]  1 of 1 completed\n"
     ]
    },
    {
     "data": {
      "text/plain": [
       "0.0525"
      ]
     },
     "execution_count": 307,
     "metadata": {},
     "output_type": "execute_result"
    }
   ],
   "source": [
    "#risk-free rate, as the 10-year U.S. treasury yield which could get from ^TNX\n",
    "r = yf.download('^IRX', rounding=True)['Adj Close'].tail(1)/100\n",
    "r = r.values[0]\n",
    "r"
   ]
  },
  {
   "cell_type": "code",
   "execution_count": null,
   "metadata": {},
   "outputs": [],
   "source": []
  },
  {
   "cell_type": "code",
   "execution_count": 308,
   "metadata": {},
   "outputs": [
    {
     "name": "stdout",
     "output_type": "stream",
     "text": [
      "[*********************100%***********************]  1 of 1 completed\n"
     ]
    },
    {
     "data": {
      "text/plain": [
       "0.04441"
      ]
     },
     "execution_count": 308,
     "metadata": {},
     "output_type": "execute_result"
    }
   ],
   "source": [
    "r_10tres = yf.download('^TNX', rounding = True)['Adj Close'].tail(1)/100\n",
    "r_10tres = r_10tres.values[0]\n",
    "r_10tres"
   ]
  },
  {
   "cell_type": "markdown",
   "metadata": {},
   "source": [
    "#### Current stock price"
   ]
  },
  {
   "cell_type": "code",
   "execution_count": 309,
   "metadata": {},
   "outputs": [
    {
     "data": {
      "text/plain": [
       "127.36"
      ]
     },
     "execution_count": 309,
     "metadata": {},
     "output_type": "execute_result"
    }
   ],
   "source": [
    "#current stock price\n",
    "s = df_returns['Adj Close'].iloc[-1]\n",
    "s"
   ]
  },
  {
   "cell_type": "markdown",
   "metadata": {},
   "source": [
    "#### Time"
   ]
  },
  {
   "cell_type": "code",
   "execution_count": 310,
   "metadata": {},
   "outputs": [
    {
     "data": {
      "text/plain": [
       "0.07945205479452055"
      ]
     },
     "execution_count": 310,
     "metadata": {},
     "output_type": "execute_result"
    }
   ],
   "source": [
    "# time remaining untill expiration\n",
    "t = (datetime.strptime(expiry_date, \"%m-%d-%Y\") - datetime.utcnow()).days / 365\n",
    "t"
   ]
  },
  {
   "cell_type": "markdown",
   "metadata": {},
   "source": [
    "#### Strike price"
   ]
  },
  {
   "cell_type": "code",
   "execution_count": 313,
   "metadata": {},
   "outputs": [],
   "source": [
    "strike_price = 135"
   ]
  },
  {
   "cell_type": "code",
   "execution_count": 317,
   "metadata": {},
   "outputs": [
    {
     "name": "stdout",
     "output_type": "stream",
     "text": [
      "-0.15966507400600705\n"
     ]
    }
   ],
   "source": [
    "print(black_scholes(s, strike_price, r_10tres, t, sigma_ret,'Call'))"
   ]
  },
  {
   "cell_type": "code",
   "execution_count": 315,
   "metadata": {},
   "outputs": [
    {
     "ename": "SyntaxError",
     "evalue": "invalid syntax (<ipython-input-315-a7f85f435c92>, line 1)",
     "output_type": "error",
     "traceback": [
      "\u001b[0;36m  File \u001b[0;32m\"<ipython-input-315-a7f85f435c92>\"\u001b[0;36m, line \u001b[0;32m1\u001b[0m\n\u001b[0;31m    r - 13 week treasury\u001b[0m\n\u001b[0m           ^\u001b[0m\n\u001b[0;31mSyntaxError\u001b[0m\u001b[0;31m:\u001b[0m invalid syntax\n"
     ]
    }
   ],
   "source": [
    "r - 13 week treasury \n",
    "sigma_ret - normal ret\n",
    "sigma - log ret"
   ]
  },
  {
   "cell_type": "code",
   "execution_count": null,
   "metadata": {},
   "outputs": [],
   "source": []
  }
 ],
 "metadata": {
  "kernelspec": {
   "display_name": "Python 3",
   "language": "python",
   "name": "python3"
  },
  "language_info": {
   "codemirror_mode": {
    "name": "ipython",
    "version": 3
   },
   "file_extension": ".py",
   "mimetype": "text/x-python",
   "name": "python",
   "nbconvert_exporter": "python",
   "pygments_lexer": "ipython3",
   "version": "3.8.5"
  }
 },
 "nbformat": 4,
 "nbformat_minor": 4
}
