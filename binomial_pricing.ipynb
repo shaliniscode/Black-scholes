{
 "cells": [
  {
   "cell_type": "code",
   "execution_count": 328,
   "metadata": {},
   "outputs": [],
   "source": [
    "import numpy as np\n",
    "import pandas as pd\n",
    "import scipy.stats as stats\n",
    "import math"
   ]
  },
  {
   "cell_type": "code",
   "execution_count": 329,
   "metadata": {},
   "outputs": [],
   "source": [
    "def tree_parameters(r,dt,u,d):\n",
    "    pu = (np.exp(r*dt)-d)/(u-d)\n",
    "    pd = 1-pu\n",
    "    return pu,pd"
   ]
  },
  {
   "cell_type": "code",
   "execution_count": 330,
   "metadata": {},
   "outputs": [],
   "source": [
    "#input paramteres\n",
    "s0 = 100\n",
    "K = 110\n",
    "T = 1\n",
    "r = 0.05\n",
    "sigma = 0.2\n",
    "n = 3\n"
   ]
  },
  {
   "cell_type": "code",
   "execution_count": 331,
   "metadata": {},
   "outputs": [],
   "source": [
    "dt = T/n\n",
    "u = np.exp(sigma*np.sqrt(dt))\n",
    "d = 1/u"
   ]
  },
  {
   "cell_type": "code",
   "execution_count": 332,
   "metadata": {},
   "outputs": [],
   "source": [
    "#Creating Binomial tree\n",
    "su = []\n",
    "sd = []\n",
    "sud =[]\n",
    "\n",
    "su.append(np.round(s0*u,2))\n",
    "sd.append(np.round(s0*d,2))\n",
    "for i in range(2,n+1):\n",
    "\n",
    "    su.append(np.round(s0*(u**i),2))\n",
    "    sd.append(np.round(s0*(d**i),2))\n",
    "\n",
    "    for j in range(1,i):\n",
    "        \n",
    "        u1 = u**(i-j)\n",
    "        d1 = d**j\n",
    "        sud.append(np.round(s0*u1*d1,2))\n",
    "\n",
    "\n"
   ]
  },
  {
   "cell_type": "code",
   "execution_count": 333,
   "metadata": {},
   "outputs": [
    {
     "name": "stdout",
     "output_type": "stream",
     "text": [
      "su: [112.24, 125.98, 141.4]\n",
      "sd: [89.09, 79.38, 70.72]\n",
      "sud: [100.0, 112.24, 89.09]\n"
     ]
    }
   ],
   "source": [
    "print(\"su:\",su)\n",
    "print(\"sd:\",sd)\n",
    "print(\"sud:\",sud)"
   ]
  },
  {
   "cell_type": "code",
   "execution_count": 334,
   "metadata": {},
   "outputs": [
    {
     "name": "stdout",
     "output_type": "stream",
     "text": [
      "[[0. 0. 0.]\n",
      " [0. 0. 0.]\n",
      " [0. 0. 0.]\n",
      " [0. 0. 0.]]\n"
     ]
    }
   ],
   "source": [
    "data = np.zeros(shape = (len(su)+1,len(su)))\n",
    "print(data)\n",
    "                "
   ]
  },
  {
   "cell_type": "code",
   "execution_count": 335,
   "metadata": {},
   "outputs": [
    {
     "name": "stdout",
     "output_type": "stream",
     "text": [
      "[[112.24 125.98 141.4 ]\n",
      " [ 89.09 100.   112.24]\n",
      " [  0.    79.38  89.09]\n",
      " [  0.     0.    70.72]]\n"
     ]
    }
   ],
   "source": [
    "\n",
    "j = 0\n",
    "for l in range(1,len(su)):\n",
    "    for k in range(1,l+1):\n",
    "        data[k][l] = sud[j]\n",
    "        #print(\"k\",k)\n",
    "        #print(\"l\",l)\n",
    "        #print(\"\\n\")\n",
    "        j = j+1\n",
    "    #print(\"\\n\")       \n",
    "m = 1\n",
    "for i in range(len(su)):\n",
    "    data[0][i] = su[i]\n",
    "    data[m][i] = sd[i]\n",
    "    m = m+1\n",
    "\n",
    "print(data)"
   ]
  },
  {
   "cell_type": "code",
   "execution_count": 336,
   "metadata": {},
   "outputs": [
    {
     "name": "stdout",
     "output_type": "stream",
     "text": [
      "['Nodes1', 'Nodes2', 'Nodes3']\n"
     ]
    }
   ],
   "source": [
    "col = []\n",
    "for m in range(1,len(su)+1):\n",
    "    col.append(\"{}{}\".format('Nodes',m))\n",
    "\n",
    "print(col)"
   ]
  },
  {
   "cell_type": "code",
   "execution_count": 337,
   "metadata": {},
   "outputs": [
    {
     "name": "stdout",
     "output_type": "stream",
     "text": [
      "   Nodes1  Nodes2  Nodes3\n",
      "0  112.24  125.98  141.40\n",
      "1   89.09  100.00  112.24\n",
      "2    0.00   79.38   89.09\n",
      "3    0.00    0.00   70.72\n"
     ]
    }
   ],
   "source": [
    "df_sp = pd.DataFrame( data, index = range(len(su)+1), columns=col)\n",
    "print(df_sp)\n",
    "\n",
    "    "
   ]
  },
  {
   "cell_type": "code",
   "execution_count": 338,
   "metadata": {},
   "outputs": [
    {
     "data": {
      "text/html": [
       "<div>\n",
       "<style scoped>\n",
       "    .dataframe tbody tr th:only-of-type {\n",
       "        vertical-align: middle;\n",
       "    }\n",
       "\n",
       "    .dataframe tbody tr th {\n",
       "        vertical-align: top;\n",
       "    }\n",
       "\n",
       "    .dataframe thead th {\n",
       "        text-align: right;\n",
       "    }\n",
       "</style>\n",
       "<table border=\"1\" class=\"dataframe\">\n",
       "  <thead>\n",
       "    <tr style=\"text-align: right;\">\n",
       "      <th></th>\n",
       "      <th>Nodes1</th>\n",
       "      <th>Nodes2</th>\n",
       "      <th>Nodes3</th>\n",
       "    </tr>\n",
       "  </thead>\n",
       "  <tbody>\n",
       "    <tr>\n",
       "      <th>0</th>\n",
       "      <td>112.24</td>\n",
       "      <td>125.98</td>\n",
       "      <td>141.40</td>\n",
       "    </tr>\n",
       "    <tr>\n",
       "      <th>1</th>\n",
       "      <td>89.09</td>\n",
       "      <td>100.00</td>\n",
       "      <td>112.24</td>\n",
       "    </tr>\n",
       "    <tr>\n",
       "      <th>2</th>\n",
       "      <td>0.00</td>\n",
       "      <td>79.38</td>\n",
       "      <td>89.09</td>\n",
       "    </tr>\n",
       "    <tr>\n",
       "      <th>3</th>\n",
       "      <td>0.00</td>\n",
       "      <td>0.00</td>\n",
       "      <td>70.72</td>\n",
       "    </tr>\n",
       "  </tbody>\n",
       "</table>\n",
       "</div>"
      ],
      "text/plain": [
       "   Nodes1  Nodes2  Nodes3\n",
       "0  112.24  125.98  141.40\n",
       "1   89.09  100.00  112.24\n",
       "2    0.00   79.38   89.09\n",
       "3    0.00    0.00   70.72"
      ]
     },
     "execution_count": 338,
     "metadata": {},
     "output_type": "execute_result"
    }
   ],
   "source": [
    "df_option = df_sp.copy()\n",
    "df_option"
   ]
  },
  {
   "cell_type": "code",
   "execution_count": 339,
   "metadata": {},
   "outputs": [],
   "source": [
    "discount= np.exp(-r*T)\n",
    "pu,pd =tree_parameters(r,dt,u,d)"
   ]
  },
  {
   "cell_type": "code",
   "execution_count": 323,
   "metadata": {},
   "outputs": [],
   "source": [
    "\n",
    "def call_option(discount, pu,pd,df_option):\n",
    "    for i in range(len(df_option.index.values)):\n",
    "        df_option.iloc[i][-1] = np.round(max(df_option.iloc[i][-1]-K,0),2)\n",
    "    #print( df_option)\n",
    "    k =len(df_option.columns.values)-2 #k =3\n",
    "    l = len(df_option.index.values)-1\n",
    "    for i in df_option.columns.values[-2::-1]:\n",
    "        #print(\"i\",i)\n",
    "        for j in range(0,l):\n",
    "            #print(\"j\",j)\n",
    "            df_option.iloc[j][i] = discount*((pu*df_option.iloc[j][k])+(pd*df_option.iloc[j+1][k]))\n",
    "        k= k-1\n",
    "        #print(\"K\",k)\n",
    "        l= l-1\n",
    "        #print(\"\\n\")\n",
    "\n",
    "    c0 = discount*((pu*df_option.iloc[0][0])+(pd*df_option.iloc[1][0]))\n",
    "    return c0"
   ]
  },
  {
   "cell_type": "code",
   "execution_count": 340,
   "metadata": {},
   "outputs": [],
   "source": [
    "def put_option(discount, pu,pd,df_option):\n",
    "    for i in range(len(df_option.index.values)):\n",
    "        df_option.iloc[i][-1] = np.round(max(K-df_option.iloc[i][-1],0),2)\n",
    "        #print(df_option)\n",
    "    k =len(df_option.columns.values)-2\n",
    "    l = len(df_option.index.values)-1\n",
    "    for i in df_option.columns.values[-2:0:-1]:\n",
    "        for j in range(len(df_option.index.values)-1,-1,-1):\n",
    "            df_option.iloc[j][i] = discount*((pu*df_option.iloc[j-1][k])+(pd*df_option.iloc[j][k]))\n",
    "        k= k-1\n",
    "        l=l-1\n",
    "\n",
    "    p0 = discount*((pu*df_option.iloc[0][0])+(pd*df_option.iloc[1][0]))\n",
    "    return p0"
   ]
  },
  {
   "cell_type": "code",
   "execution_count": 325,
   "metadata": {},
   "outputs": [
    {
     "name": "stdout",
     "output_type": "stream",
     "text": [
      "70.02728458333993\n"
     ]
    }
   ],
   "source": [
    "print(call_option(discount,pu,pd,df_option))"
   ]
  },
  {
   "cell_type": "code",
   "execution_count": 341,
   "metadata": {},
   "outputs": [
    {
     "name": "stdout",
     "output_type": "stream",
     "text": [
      "   Nodes1  Nodes2  Nodes3\n",
      "0  112.24  125.98    0.00\n",
      "1   89.09  100.00  112.24\n",
      "2    0.00   79.38   89.09\n",
      "3    0.00    0.00   70.72\n",
      "   Nodes1  Nodes2  Nodes3\n",
      "0  112.24  125.98    0.00\n",
      "1   89.09  100.00    0.00\n",
      "2    0.00   79.38   89.09\n",
      "3    0.00    0.00   70.72\n",
      "   Nodes1  Nodes2  Nodes3\n",
      "0  112.24  125.98    0.00\n",
      "1   89.09  100.00    0.00\n",
      "2    0.00   79.38   20.91\n",
      "3    0.00    0.00   70.72\n",
      "   Nodes1  Nodes2  Nodes3\n",
      "0  112.24  125.98    0.00\n",
      "1   89.09  100.00    0.00\n",
      "2    0.00   79.38   20.91\n",
      "3    0.00    0.00   39.28\n",
      "96.71951274630025\n"
     ]
    }
   ],
   "source": [
    "print(put_option(discount, pu,pd,df_option))"
   ]
  },
  {
   "cell_type": "code",
   "execution_count": null,
   "metadata": {},
   "outputs": [],
   "source": []
  }
 ],
 "metadata": {
  "kernelspec": {
   "display_name": "kernel_bs",
   "language": "python",
   "name": "kernel_bs"
  },
  "language_info": {
   "codemirror_mode": {
    "name": "ipython",
    "version": 3
   },
   "file_extension": ".py",
   "mimetype": "text/x-python",
   "name": "python",
   "nbconvert_exporter": "python",
   "pygments_lexer": "ipython3",
   "version": "3.9.6"
  }
 },
 "nbformat": 4,
 "nbformat_minor": 2
}
